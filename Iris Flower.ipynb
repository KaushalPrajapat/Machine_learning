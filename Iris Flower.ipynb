{
 "cells": [
  {
   "cell_type": "code",
   "execution_count": null,
   "id": "f9dcd975",
   "metadata": {},
   "outputs": [],
   "source": [
    "# Exercise\n",
    "# Use sklearn.datasets iris flower dataset to train your model using logistic regression. You need to figure out accuracy \n",
    "# of your model and use that to predict different samples in your test dataset. In iris dataset there are 150 samples \n",
    "# containing following features,\n",
    "\n",
    "# 1. Sepal Length\n",
    "# 2. Sepal Width\n",
    "# 3. Petal Length\n",
    "# 4. Petal Width\n",
    "# Using above 4 features you will clasify a flower in one of the three categories,\n",
    "\n",
    "# 1. Setosa\n",
    "# 2. Versicolour\n",
    "# 3. Virginica"
   ]
  },
  {
   "cell_type": "code",
   "execution_count": 12,
   "id": "b1b66b28",
   "metadata": {},
   "outputs": [],
   "source": [
    "# import metplotlib.pyplot as plt\n",
    "import matplotlib.pyplot as plt\n",
    "import numpy as np\n",
    "import pandas as pd\n",
    "\n",
    "from sklearn.datasets import load_iris\n"
   ]
  },
  {
   "cell_type": "code",
   "execution_count": 16,
   "id": "fba0b61d",
   "metadata": {},
   "outputs": [],
   "source": [
    "dt = load_iris()"
   ]
  },
  {
   "cell_type": "code",
   "execution_count": 17,
   "id": "a65bef34",
   "metadata": {},
   "outputs": [
    {
     "data": {
      "text/plain": [
       "['DESCR',\n",
       " 'data',\n",
       " 'feature_names',\n",
       " 'filename',\n",
       " 'frame',\n",
       " 'target',\n",
       " 'target_names']"
      ]
     },
     "execution_count": 17,
     "metadata": {},
     "output_type": "execute_result"
    }
   ],
   "source": [
    "dir(dt)"
   ]
  },
  {
   "cell_type": "code",
   "execution_count": 35,
   "id": "80612e66",
   "metadata": {},
   "outputs": [
    {
     "data": {
      "text/plain": [
       "(150, 4)"
      ]
     },
     "execution_count": 35,
     "metadata": {},
     "output_type": "execute_result"
    }
   ],
   "source": [
    "dt.data.shape\n",
    "\n",
    "# for i in range(15,20):\n",
    "#     print(dt.data[i])"
   ]
  },
  {
   "cell_type": "code",
   "execution_count": 37,
   "id": "c1bc094c",
   "metadata": {},
   "outputs": [],
   "source": [
    "# for i in range(15,20):\n",
    "#     print(dt.filename[i])\n"
   ]
  },
  {
   "cell_type": "code",
   "execution_count": 38,
   "id": "d2e73710",
   "metadata": {},
   "outputs": [],
   "source": [
    "# for i in range(15,20):print(dt.target[1])"
   ]
  },
  {
   "cell_type": "code",
   "execution_count": 40,
   "id": "a7e4940e",
   "metadata": {},
   "outputs": [],
   "source": [
    "# for i in range(15,20):print(dt.target_names[1])"
   ]
  },
  {
   "cell_type": "code",
   "execution_count": 41,
   "id": "e145e0e4",
   "metadata": {},
   "outputs": [],
   "source": [
    "from sklearn.model_selection import train_test_split"
   ]
  },
  {
   "cell_type": "code",
   "execution_count": 67,
   "id": "9abd3f6a",
   "metadata": {},
   "outputs": [],
   "source": [
    "X_train,X_test,y_train,y_test = train_test_split(dt.data,dt.target,test_size=.5,random_state=42)"
   ]
  },
  {
   "cell_type": "code",
   "execution_count": 68,
   "id": "4ee5eea6",
   "metadata": {},
   "outputs": [],
   "source": [
    "from sklearn.linear_model import LogisticRegression\n",
    "model = LogisticRegression(max_iter=2000)"
   ]
  },
  {
   "cell_type": "code",
   "execution_count": 69,
   "id": "15389240",
   "metadata": {},
   "outputs": [
    {
     "data": {
      "text/plain": [
       "LogisticRegression(max_iter=2000)"
      ]
     },
     "execution_count": 69,
     "metadata": {},
     "output_type": "execute_result"
    }
   ],
   "source": [
    "model.fit(X_train,y_train)"
   ]
  },
  {
   "cell_type": "code",
   "execution_count": 70,
   "id": "f3fbfc21",
   "metadata": {},
   "outputs": [
    {
     "data": {
      "text/plain": [
       "array(['setosa', 'versicolor', 'virginica'], dtype='<U10')"
      ]
     },
     "execution_count": 70,
     "metadata": {},
     "output_type": "execute_result"
    }
   ],
   "source": [
    "prediction = model.predict(X_test)\n",
    "dt.target_names"
   ]
  },
  {
   "cell_type": "code",
   "execution_count": 71,
   "id": "99c36f61",
   "metadata": {},
   "outputs": [
    {
     "data": {
      "text/plain": [
       "array([1, 0, 2, 1, 1, 0, 1, 2, 1, 1, 2, 0, 0, 0, 0, 1, 2, 1, 1, 2, 0, 2,\n",
       "       0, 2, 2, 2, 2, 2, 0, 0, 0, 0, 1, 0, 0, 2, 1, 0, 0, 0, 2, 1, 1, 0,\n",
       "       0, 1, 2, 2, 1, 2, 1, 2, 1, 0, 2, 1, 0, 0, 0, 1, 2, 0, 0, 0, 1, 0,\n",
       "       1, 2, 0, 1, 2, 0, 2, 2, 1])"
      ]
     },
     "execution_count": 71,
     "metadata": {},
     "output_type": "execute_result"
    }
   ],
   "source": [
    "prediction"
   ]
  },
  {
   "cell_type": "code",
   "execution_count": 72,
   "id": "e8241e41",
   "metadata": {},
   "outputs": [
    {
     "name": "stdout",
     "output_type": "stream",
     "text": [
      "versicolor\n",
      "setosa\n",
      "virginica\n",
      "versicolor\n",
      "versicolor\n",
      "setosa\n",
      "versicolor\n",
      "virginica\n",
      "versicolor\n",
      "versicolor\n",
      "virginica\n",
      "setosa\n",
      "setosa\n",
      "setosa\n",
      "setosa\n",
      "versicolor\n",
      "virginica\n",
      "versicolor\n",
      "versicolor\n",
      "virginica\n",
      "setosa\n",
      "virginica\n",
      "setosa\n",
      "virginica\n",
      "virginica\n",
      "virginica\n",
      "virginica\n",
      "virginica\n",
      "setosa\n",
      "setosa\n",
      "setosa\n",
      "setosa\n",
      "versicolor\n",
      "setosa\n",
      "setosa\n",
      "virginica\n",
      "versicolor\n",
      "setosa\n",
      "setosa\n",
      "setosa\n",
      "virginica\n",
      "versicolor\n",
      "versicolor\n",
      "setosa\n",
      "setosa\n",
      "versicolor\n",
      "virginica\n",
      "virginica\n",
      "versicolor\n",
      "virginica\n",
      "versicolor\n",
      "virginica\n",
      "versicolor\n",
      "setosa\n",
      "virginica\n",
      "versicolor\n",
      "setosa\n",
      "setosa\n",
      "setosa\n",
      "versicolor\n",
      "virginica\n",
      "setosa\n",
      "setosa\n",
      "setosa\n",
      "versicolor\n",
      "setosa\n",
      "versicolor\n",
      "virginica\n",
      "setosa\n",
      "versicolor\n",
      "virginica\n",
      "setosa\n",
      "virginica\n",
      "virginica\n",
      "versicolor\n"
     ]
    }
   ],
   "source": [
    "for x in prediction:\n",
    "#     if x==1:\n",
    "#         print('versicolor')\n",
    "#     if x==2:\n",
    "#         print('virginica')\n",
    "#     if x==0:\n",
    "#         print('setosa')\n",
    "    print(dt.target_names[x])"
   ]
  },
  {
   "cell_type": "code",
   "execution_count": 73,
   "id": "5b292f68",
   "metadata": {},
   "outputs": [
    {
     "data": {
      "text/plain": [
       "1.0"
      ]
     },
     "execution_count": 73,
     "metadata": {},
     "output_type": "execute_result"
    }
   ],
   "source": [
    "model.score(X_test,y_test)"
   ]
  },
  {
   "cell_type": "code",
   "execution_count": 74,
   "id": "e1ee6ab3",
   "metadata": {},
   "outputs": [],
   "source": [
    "from sklearn.metrics import confusion_matrix"
   ]
  },
  {
   "cell_type": "code",
   "execution_count": 75,
   "id": "f247af8e",
   "metadata": {},
   "outputs": [],
   "source": [
    "cm = confusion_matrix(y_test,prediction)"
   ]
  },
  {
   "cell_type": "code",
   "execution_count": 76,
   "id": "a8766e66",
   "metadata": {},
   "outputs": [
    {
     "data": {
      "text/plain": [
       "array([[29,  0,  0],\n",
       "       [ 0, 23,  0],\n",
       "       [ 0,  0, 23]], dtype=int64)"
      ]
     },
     "execution_count": 76,
     "metadata": {},
     "output_type": "execute_result"
    }
   ],
   "source": [
    "cm"
   ]
  },
  {
   "cell_type": "code",
   "execution_count": 77,
   "id": "d06122f6",
   "metadata": {},
   "outputs": [],
   "source": [
    "import seaborn as sns"
   ]
  },
  {
   "cell_type": "code",
   "execution_count": 83,
   "id": "009a28d4",
   "metadata": {},
   "outputs": [
    {
     "data": {
      "text/plain": [
       "<AxesSubplot:>"
      ]
     },
     "execution_count": 83,
     "metadata": {},
     "output_type": "execute_result"
    },
    {
     "data": {
      "image/png": "[encoded data removed]",
      "text/plain": [
       "<Figure size 432x288 with 2 Axes>"
      ]
     },
     "metadata": {
      "needs_background": "light"
     },
     "output_type": "display_data"
    }
   ],
   "source": [
    "sns.heatmap(cm,annot=True,linewidths=2,linecolor='#87c7a3')"
   ]
  },
  {
   "cell_type": "code",
   "execution_count": null,
   "id": "63d5e13a",
   "metadata": {},
   "outputs": [],
   "source": []
  }
 ],
 "metadata": {
  "kernelspec": {
   "display_name": "Python 3 (ipykernel)",
   "language": "python",
   "name": "python3"
  },
  "language_info": {
   "codemirror_mode": {
    "name": "ipython",
    "version": 3
   },
   "file_extension": ".py",
   "mimetype": "text/x-python",
   "name": "python",
   "nbconvert_exporter": "python",
   "pygments_lexer": "ipython3",
   "version": "3.9.7"
  }
 },
 "nbformat": 4,
 "nbformat_minor": 5
}
