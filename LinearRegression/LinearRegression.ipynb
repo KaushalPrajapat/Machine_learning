{
 "cells": [
  {
   "cell_type": "code",
   "execution_count": 1,
   "id": "e4ad677e",
   "metadata": {},
   "outputs": [],
   "source": [
    "import numpy as np\n",
    "import pandas as pd\n",
    "import matplotlib.pyplot as plt\n",
    "%matplotlib inline"
   ]
  },
  {
   "cell_type": "code",
   "execution_count": 2,
   "id": "8cc59d43",
   "metadata": {},
   "outputs": [],
   "source": [
    "train = pd.read_csv(r'DataSet/train.csv')"
   ]
  },
  {
   "cell_type": "code",
   "execution_count": null,
   "id": "b9d26fd7",
   "metadata": {},
   "outputs": [],
   "source": [
    "train.tail(5)"
   ]
  },
  {
   "cell_type": "code",
   "execution_count": null,
   "id": "0f0db112",
   "metadata": {},
   "outputs": [],
   "source": [
    "train.isna().sum()"
   ]
  },
  {
   "cell_type": "code",
   "execution_count": null,
   "id": "d7d61d95",
   "metadata": {},
   "outputs": [],
   "source": [
    "train = train.fillna(0)"
   ]
  },
  {
   "cell_type": "code",
   "execution_count": null,
   "id": "c3e45c48",
   "metadata": {},
   "outputs": [],
   "source": [
    "train.isna().sum()"
   ]
  },
  {
   "cell_type": "code",
   "execution_count": null,
   "id": "23261149",
   "metadata": {},
   "outputs": [],
   "source": [
    "from sklearn.linear_model import LinearRegression\n",
    "\n",
    "reg = LinearRegression()"
   ]
  },
  {
   "cell_type": "code",
   "execution_count": null,
   "id": "2ad3495d",
   "metadata": {},
   "outputs": [],
   "source": [
    "X_train = np.array([train.x]).reshape(700,1)\n",
    "# x_train\n",
    "y_train = np.array(train.y)\n",
    "# y_train\n",
    "\n",
    "\n",
    "# X_train = train.iloc[:, :-1].values\n",
    "# y_train = train.iloc[:, -1].values\n",
    "# X_test = test_data.iloc[:, :-1].values\n",
    "# y_test = test_data.iloc[:, -1].values\n",
    "\n",
    "# X_train\n",
    "# y_train\n"
   ]
  },
  {
   "cell_type": "code",
   "execution_count": null,
   "id": "d0e366a4",
   "metadata": {},
   "outputs": [],
   "source": [
    "# df.drop(df.isna())\n",
    "train.isna().sum()\n",
    "# df = df.fillna(0)\n",
    "train.isna().sum()"
   ]
  },
  {
   "cell_type": "code",
   "execution_count": null,
   "id": "7e36199f",
   "metadata": {},
   "outputs": [],
   "source": [
    "reg.fit(X_train,y_train)"
   ]
  },
  {
   "cell_type": "code",
   "execution_count": 3,
   "id": "d0b30c5b",
   "metadata": {},
   "outputs": [],
   "source": [
    "test = pd.read_csv(r'DataSet/test.csv')"
   ]
  },
  {
   "cell_type": "code",
   "execution_count": null,
   "id": "bae4a653",
   "metadata": {},
   "outputs": [],
   "source": [
    "X_test = test.iloc[:,:-1]\n",
    "y_test = test.iloc[:,-1]"
   ]
  },
  {
   "cell_type": "code",
   "execution_count": null,
   "id": "df41586e",
   "metadata": {},
   "outputs": [],
   "source": [
    "X = reg.predict(X_test)\n",
    "# X_test"
   ]
  },
  {
   "cell_type": "code",
   "execution_count": null,
   "id": "721bb2b6",
   "metadata": {},
   "outputs": [],
   "source": [
    "reg.intercept_"
   ]
  },
  {
   "cell_type": "code",
   "execution_count": null,
   "id": "642b4a64",
   "metadata": {},
   "outputs": [],
   "source": [
    "reg.coef_"
   ]
  },
  {
   "cell_type": "code",
   "execution_count": null,
   "id": "d79a9f0a",
   "metadata": {},
   "outputs": [],
   "source": [
    "# for i in range(300):\n",
    "#     print([X[i],y_test[i]],\"Difference \",int(X[i]-y_test[i]))"
   ]
  },
  {
   "cell_type": "code",
   "execution_count": null,
   "id": "3393e811",
   "metadata": {},
   "outputs": [],
   "source": [
    "plt.scatter(X_train, y_train, color = 'red')\n",
    "plt.plot(X_train, reg.predict(X_train), color = 'blue')\n",
    "plt.title('Salary vs Experience (Training set)')\n",
    "plt.xlabel('Years of Experience')\n",
    "plt.ylabel('Salary')\n",
    "plt.show()"
   ]
  },
  {
   "cell_type": "code",
   "execution_count": null,
   "id": "1899dcd1",
   "metadata": {},
   "outputs": [],
   "source": [
    "plt.scatter(X_test, y_test, color = 'red')\n",
    "plt.plot(X_train, reg.predict(X_train), color = 'blue')\n",
    "plt.title('Salary vs Experience (Test set)')\n",
    "plt.xlabel('Years of Experience')\n",
    "plt.ylabel('Salary')\n",
    "plt.show()"
   ]
  },
  {
   "cell_type": "code",
   "execution_count": null,
   "id": "8abfc031",
   "metadata": {},
   "outputs": [],
   "source": [
    "# calculate mean squre error of predictions and real values\n",
    "\n",
    "from sklearn.metrics import mean_squared_error\n",
    "\n",
    "print(\"mean squared error: %.2f\" %mean_squared_error(X, y_test))"
   ]
  },
  {
   "cell_type": "code",
   "execution_count": null,
   "id": "fddd9c44",
   "metadata": {},
   "outputs": [],
   "source": []
  },
  {
   "cell_type": "code",
   "execution_count": null,
   "id": "4173826c",
   "metadata": {},
   "outputs": [],
   "source": []
  },
  {
   "cell_type": "markdown",
   "id": "a7000fa4",
   "metadata": {},
   "source": [
    "# Another Dataset  -- \n",
    "### Multiple Variable"
   ]
  },
  {
   "cell_type": "code",
   "execution_count": null,
   "id": "fab0d4cd",
   "metadata": {},
   "outputs": [],
   "source": [
    "data = pd.read_csv(r'C:\\Users\\kaushal prajapat\\Downloads\\CSV_Files\\kc_house_data.csv')"
   ]
  },
  {
   "cell_type": "code",
   "execution_count": null,
   "id": "1034b3ca",
   "metadata": {},
   "outputs": [],
   "source": [
    "# data"
   ]
  },
  {
   "cell_type": "code",
   "execution_count": null,
   "id": "8f89aeeb",
   "metadata": {},
   "outputs": [],
   "source": [
    "data.columns.values"
   ]
  },
  {
   "cell_type": "code",
   "execution_count": null,
   "id": "5c31e33a",
   "metadata": {},
   "outputs": [],
   "source": [
    "data.price"
   ]
  },
  {
   "cell_type": "code",
   "execution_count": null,
   "id": "e6f25bdf",
   "metadata": {},
   "outputs": [],
   "source": [
    "y = data.iloc[:,2:3]\n",
    "y\n",
    "\n",
    "x= data.iloc[:,3:]\n",
    "x.columns.values\n",
    "# x = x.drop(['yr_renovated'],axis=1)\n",
    "# x"
   ]
  },
  {
   "cell_type": "code",
   "execution_count": null,
   "id": "ad1832cf",
   "metadata": {},
   "outputs": [],
   "source": [
    "from sklearn.model_selection import train_test_split"
   ]
  },
  {
   "cell_type": "code",
   "execution_count": null,
   "id": "1da58a00",
   "metadata": {},
   "outputs": [],
   "source": [
    "x_train,x_test,y_train,y_test = train_test_split(x,y,test_size=.2,random_state=42)"
   ]
  },
  {
   "cell_type": "code",
   "execution_count": null,
   "id": "310ec8b1",
   "metadata": {},
   "outputs": [],
   "source": [
    "x_train"
   ]
  },
  {
   "cell_type": "code",
   "execution_count": null,
   "id": "c6b96979",
   "metadata": {},
   "outputs": [],
   "source": [
    "from sklearn.linear_model import LinearRegression"
   ]
  },
  {
   "cell_type": "code",
   "execution_count": null,
   "id": "12e3e58c",
   "metadata": {},
   "outputs": [],
   "source": [
    "reg = LinearRegression()"
   ]
  },
  {
   "cell_type": "code",
   "execution_count": null,
   "id": "3bcd8010",
   "metadata": {},
   "outputs": [],
   "source": [
    "reg.fit(x_train,y_train)"
   ]
  },
  {
   "cell_type": "code",
   "execution_count": null,
   "id": "21fed44b",
   "metadata": {},
   "outputs": [],
   "source": [
    "X = reg.predict(x_test)\n",
    "len(X)"
   ]
  },
  {
   "cell_type": "code",
   "execution_count": null,
   "id": "a4e2b4ff",
   "metadata": {},
   "outputs": [],
   "source": [
    "X"
   ]
  },
  {
   "cell_type": "code",
   "execution_count": null,
   "id": "c97fb761",
   "metadata": {},
   "outputs": [],
   "source": [
    "x_train.columns"
   ]
  },
  {
   "cell_type": "code",
   "execution_count": null,
   "id": "5eecf24a",
   "metadata": {},
   "outputs": [],
   "source": [
    "reg.coef_"
   ]
  },
  {
   "cell_type": "code",
   "execution_count": null,
   "id": "a3924a09",
   "metadata": {},
   "outputs": [],
   "source": [
    "reg.intercept_"
   ]
  },
  {
   "cell_type": "code",
   "execution_count": null,
   "id": "6a48c367",
   "metadata": {},
   "outputs": [],
   "source": [
    "data.columns"
   ]
  },
  {
   "cell_type": "code",
   "execution_count": null,
   "id": "b8f5d9cc",
   "metadata": {},
   "outputs": [],
   "source": [
    "# plt.hist(y_train)\n",
    "plt.scatter(data.sqft_living,data.price)\n",
    "plt.show()"
   ]
  },
  {
   "cell_type": "code",
   "execution_count": null,
   "id": "dd40d61d",
   "metadata": {},
   "outputs": [],
   "source": []
  },
  {
   "cell_type": "code",
   "execution_count": null,
   "id": "fa69bcd3",
   "metadata": {},
   "outputs": [],
   "source": [
    "data"
   ]
  },
  {
   "cell_type": "code",
   "execution_count": null,
   "id": "8d8dd7f5",
   "metadata": {},
   "outputs": [],
   "source": []
  },
  {
   "cell_type": "code",
   "execution_count": null,
   "id": "0e2f6424",
   "metadata": {},
   "outputs": [],
   "source": []
  },
  {
   "cell_type": "code",
   "execution_count": 2,
   "id": "215c6688",
   "metadata": {},
   "outputs": [],
   "source": [
    "data = pd.read_csv(r'C:\\Users\\kaushal prajapat\\Downloads\\CSV_Files\\kc_house_data.csv')"
   ]
  },
  {
   "cell_type": "code",
   "execution_count": 3,
   "id": "7801c7e1",
   "metadata": {},
   "outputs": [],
   "source": [
    "from sklearn.linear_model import LinearRegression\n",
    "from sklearn.model_selection import train_test_split"
   ]
  },
  {
   "cell_type": "code",
   "execution_count": 5,
   "id": "5c931559",
   "metadata": {},
   "outputs": [],
   "source": [
    "x_now = data['sqft_living']\n",
    "y = data['price']\n",
    "x_new_train , x_new_test , y_new_train,y_new_test = train_test_split(x_now,y,train_size=.8,random_state=3)\n",
    "\n",
    "# x_train,x_test,y_train,y_test = train_test_split(x,y,test_size=.2,random_state=42)\n",
    "# y"
   ]
  },
  {
   "cell_type": "code",
   "execution_count": 6,
   "id": "4a0a118e",
   "metadata": {},
   "outputs": [],
   "source": [
    "# x_new_train = np.array(x_new_train, dtype=pd.Series).reshape(-1,1)\n",
    "# y_new_train = np.array(y_new_train, dtype=pd.Series)\n",
    "\n",
    "y_new_train = np.array(y_new_train,dtype=pd.Series)\n",
    "x_new_train = np.array(x_new_train,dtype=pd.Series).reshape(-1,1)"
   ]
  },
  {
   "cell_type": "code",
   "execution_count": 7,
   "id": "045e6710",
   "metadata": {},
   "outputs": [],
   "source": [
    "r = LinearRegression()\n"
   ]
  },
  {
   "cell_type": "code",
   "execution_count": 8,
   "id": "5053f3a2",
   "metadata": {},
   "outputs": [
    {
     "data": {
      "text/plain": [
       "LinearRegression()"
      ]
     },
     "execution_count": 8,
     "metadata": {},
     "output_type": "execute_result"
    }
   ],
   "source": [
    "r.fit(x_new_train,y_new_train)"
   ]
  },
  {
   "cell_type": "code",
   "execution_count": 11,
   "id": "494f28ea",
   "metadata": {},
   "outputs": [],
   "source": [
    "x_new_test = np.array(y_new_test,dtype=pd.Series).reshape(-1,1)\n",
    "\n",
    "prd = r.predict(x_new_test)"
   ]
  },
  {
   "cell_type": "code",
   "execution_count": 12,
   "id": "a59911e4",
   "metadata": {},
   "outputs": [
    {
     "data": {
      "text/plain": [
       "array([1.48132342e+08, 5.27754309e+08, 2.11637876e+08, ...,\n",
       "       2.76469969e+08, 3.71107326e+08, 7.89818724e+07])"
      ]
     },
     "execution_count": 12,
     "metadata": {},
     "output_type": "execute_result"
    }
   ],
   "source": [
    "# y_new_test\n",
    "prd"
   ]
  },
  {
   "cell_type": "code",
   "execution_count": 13,
   "id": "0a445fbb",
   "metadata": {},
   "outputs": [
    {
     "data": {
      "text/plain": [
       "array([282.2468152])"
      ]
     },
     "execution_count": 13,
     "metadata": {},
     "output_type": "execute_result"
    }
   ],
   "source": [
    "r.coef_"
   ]
  },
  {
   "cell_type": "code",
   "execution_count": 14,
   "id": "538bbe9d",
   "metadata": {},
   "outputs": [
    {
     "data": {
      "text/plain": [
       "-47235.811302901246"
      ]
     },
     "execution_count": 14,
     "metadata": {},
     "output_type": "execute_result"
    }
   ],
   "source": [
    "r.intercept_"
   ]
  },
  {
   "cell_type": "code",
   "execution_count": 38,
   "id": "512e2735",
   "metadata": {},
   "outputs": [
    {
     "data": {
      "text/plain": [
       "<matplotlib.legend.Legend at 0x22669d15be0>"
      ]
     },
     "execution_count": 38,
     "metadata": {},
     "output_type": "execute_result"
    },
    {
     "data": {
      "image/png": "[encoded data removed]",
      "text/plain": [
       "<Figure size 468x360 with 1 Axes>"
      ]
     },
     "metadata": {
      "needs_background": "light"
     },
     "output_type": "display_data"
    }
   ],
   "source": [
    "plt.figure(figsize=(6.5,5))\n",
    "\n",
    "# plt.scatter(x_new_test,y_new_test)\n",
    "# plt.plot(x_new_test,r.predict(x_new_test))\n",
    "\n",
    "plt.scatter(x_new_train,y_new_train,color='b',label=\"Data\", alpha=.2)\n",
    "# plt.plot(x_new_test,r.predict(x_new_test),color=\"red\",label=\"Predicted Regression Line\")\n",
    "plt.legend()"
   ]
  },
  {
   "cell_type": "code",
   "execution_count": null,
   "id": "b4775990",
   "metadata": {},
   "outputs": [],
   "source": []
  },
  {
   "cell_type": "code",
   "execution_count": null,
   "id": "28700301",
   "metadata": {},
   "outputs": [],
   "source": []
  },
  {
   "cell_type": "code",
   "execution_count": 16,
   "id": "d929019f",
   "metadata": {},
   "outputs": [],
   "source": [
    "df_dm = data"
   ]
  },
  {
   "cell_type": "code",
   "execution_count": 18,
   "id": "40f65c71",
   "metadata": {},
   "outputs": [
    {
     "data": {
      "text/plain": [
       "LinearRegression()"
      ]
     },
     "execution_count": 18,
     "metadata": {},
     "output_type": "execute_result"
    }
   ],
   "source": [
    "train_data_dm,test_data_dm = train_test_split(df_dm,train_size = 0.8,random_state=3)\n",
    "\n",
    "features = ['bedrooms','bathrooms','sqft_living','sqft_lot','floors','zipcode']\n",
    "complex_model_1 = LinearRegression()\n",
    "complex_model_1.fit(train_data_dm[features],train_data_dm['price'])"
   ]
  },
  {
   "cell_type": "code",
   "execution_count": 19,
   "id": "8f6d005c",
   "metadata": {},
   "outputs": [
    {
     "data": {
      "text/plain": [
       "array([-5.68950279e+04,  1.13310062e+04,  3.18389287e+02, -2.90807628e-01,\n",
       "       -5.79609821e+03,  5.84022824e+02])"
      ]
     },
     "execution_count": 19,
     "metadata": {},
     "output_type": "execute_result"
    }
   ],
   "source": [
    "complex_model_1.coef_"
   ]
  },
  {
   "cell_type": "code",
   "execution_count": 20,
   "id": "acca7e43",
   "metadata": {},
   "outputs": [
    {
     "data": {
      "text/plain": [
       "-57221293.13485957"
      ]
     },
     "execution_count": 20,
     "metadata": {},
     "output_type": "execute_result"
    }
   ],
   "source": [
    "complex_model_1.intercept_"
   ]
  },
  {
   "cell_type": "code",
   "execution_count": 26,
   "id": "5a922ec3",
   "metadata": {},
   "outputs": [
    {
     "data": {
      "text/plain": [
       "Index(['id', 'date', 'price', 'bedrooms', 'bathrooms', 'sqft_living',\n",
       "       'sqft_lot', 'floors', 'waterfront', 'view', 'condition', 'grade',\n",
       "       'sqft_above', 'sqft_basement', 'yr_built', 'yr_renovated', 'zipcode',\n",
       "       'lat', 'long', 'sqft_living15', 'sqft_lot15'],\n",
       "      dtype='object')"
      ]
     },
     "execution_count": 26,
     "metadata": {},
     "output_type": "execute_result"
    }
   ],
   "source": [
    "df_dm.columns"
   ]
  },
  {
   "cell_type": "code",
   "execution_count": 31,
   "id": "3503b1b0",
   "metadata": {},
   "outputs": [
    {
     "data": {
      "text/plain": [
       "LinearRegression()"
      ]
     },
     "execution_count": 31,
     "metadata": {},
     "output_type": "execute_result"
    }
   ],
   "source": [
    "train_data_dm,test_data_dm = train_test_split(df_dm,train_size = 0.8,random_state=3)\n",
    "features = ['bedrooms','bathrooms','sqft_living','sqft_lot','floors','waterfront','view','condition','sqft_above', 'sqft_basement', 'yr_built', 'yr_renovated', 'zipcode',\n",
    "       'lat', 'long', 'sqft_living15', 'sqft_lot15',\n",
    "             'grade','zipcode']\n",
    "complex_model_2 = LinearRegression()\n",
    "complex_model_2.fit(train_data_dm[features],train_data_dm['price'])\n",
    "\n"
   ]
  },
  {
   "cell_type": "code",
   "execution_count": 32,
   "id": "aa0b1867",
   "metadata": {},
   "outputs": [
    {
     "data": {
      "text/plain": [
       "array([-3.51323305e+04,  4.25821114e+04,  1.10705020e+02,  1.13581822e-01,\n",
       "        6.82992716e+03,  5.61794985e+05,  5.28174040e+04,  2.48918356e+04,\n",
       "        7.01998425e+01,  4.05051776e+01, -2.70948034e+03,  2.26715091e+01,\n",
       "       -2.90213927e+02,  5.98629230e+05, -2.08875497e+05,  2.32857416e+01,\n",
       "       -3.75353459e-01,  9.57708783e+04, -2.90213927e+02])"
      ]
     },
     "execution_count": 32,
     "metadata": {},
     "output_type": "execute_result"
    }
   ],
   "source": [
    "complex_model_2.coef_"
   ]
  },
  {
   "cell_type": "code",
   "execution_count": 33,
   "id": "93efdd38",
   "metadata": {},
   "outputs": [
    {
     "data": {
      "text/plain": [
       "7580919.940383532"
      ]
     },
     "execution_count": 33,
     "metadata": {},
     "output_type": "execute_result"
    }
   ],
   "source": [
    "complex_model_2.intercept_"
   ]
  },
  {
   "cell_type": "code",
   "execution_count": null,
   "id": "84373e6e",
   "metadata": {},
   "outputs": [],
   "source": []
  }
 ],
 "metadata": {
  "kernelspec": {
   "display_name": "Python 3 (ipykernel)",
   "language": "python",
   "name": "python3"
  },
  "language_info": {
   "codemirror_mode": {
    "name": "ipython",
    "version": 3
   },
   "file_extension": ".py",
   "mimetype": "text/x-python",
   "name": "python",
   "nbconvert_exporter": "python",
   "pygments_lexer": "ipython3",
   "version": "3.9.7"
  }
 },
 "nbformat": 4,
 "nbformat_minor": 5
}
