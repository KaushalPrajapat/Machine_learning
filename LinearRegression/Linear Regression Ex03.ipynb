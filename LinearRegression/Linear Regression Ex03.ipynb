{
 "cells": [
  {
   "cell_type": "code",
   "execution_count": 1,
   "id": "40498602",
   "metadata": {},
   "outputs": [],
   "source": [
    "import numpy as np\n",
    "import pandas as pd\n",
    "import matplotlib.pyplot as plt\n",
    "%matplotlib inline"
   ]
  },
  {
   "cell_type": "code",
   "execution_count": 2,
   "id": "8606cbfe",
   "metadata": {},
   "outputs": [
    {
     "data": {
      "text/html": [
       "<div>\n",
       "<style scoped>\n",
       "    .dataframe tbody tr th:only-of-type {\n",
       "        vertical-align: middle;\n",
       "    }\n",
       "\n",
       "    .dataframe tbody tr th {\n",
       "        vertical-align: top;\n",
       "    }\n",
       "\n",
       "    .dataframe thead th {\n",
       "        text-align: right;\n",
       "    }\n",
       "</style>\n",
       "<table border=\"1\" class=\"dataframe\">\n",
       "  <thead>\n",
       "    <tr style=\"text-align: right;\">\n",
       "      <th></th>\n",
       "      <th>year</th>\n",
       "      <th>per capita income (US$)</th>\n",
       "    </tr>\n",
       "  </thead>\n",
       "  <tbody>\n",
       "    <tr>\n",
       "      <th>0</th>\n",
       "      <td>1970</td>\n",
       "      <td>3399.299037</td>\n",
       "    </tr>\n",
       "    <tr>\n",
       "      <th>1</th>\n",
       "      <td>1971</td>\n",
       "      <td>3768.297935</td>\n",
       "    </tr>\n",
       "    <tr>\n",
       "      <th>2</th>\n",
       "      <td>1972</td>\n",
       "      <td>4251.175484</td>\n",
       "    </tr>\n",
       "    <tr>\n",
       "      <th>3</th>\n",
       "      <td>1973</td>\n",
       "      <td>4804.463248</td>\n",
       "    </tr>\n",
       "    <tr>\n",
       "      <th>4</th>\n",
       "      <td>1974</td>\n",
       "      <td>5576.514583</td>\n",
       "    </tr>\n",
       "  </tbody>\n",
       "</table>\n",
       "</div>"
      ],
      "text/plain": [
       "   year  per capita income (US$)\n",
       "0  1970              3399.299037\n",
       "1  1971              3768.297935\n",
       "2  1972              4251.175484\n",
       "3  1973              4804.463248\n",
       "4  1974              5576.514583"
      ]
     },
     "execution_count": 2,
     "metadata": {},
     "output_type": "execute_result"
    }
   ],
   "source": [
    "data = pd.read_csv(r'DataSet\\canada_per_capita_income.csv')\n",
    "data.head()"
   ]
  },
  {
   "cell_type": "code",
   "execution_count": 3,
   "id": "685229f3",
   "metadata": {},
   "outputs": [
    {
     "data": {
      "image/png": "[encoded data removed]",
      "text/plain": [
       "<Figure size 432x288 with 4 Axes>"
      ]
     },
     "metadata": {
      "needs_background": "light"
     },
     "output_type": "display_data"
    }
   ],
   "source": [
    "figure, axis = plt.subplots(2, 2)\n",
    "\n",
    "axis[0,0].plot(data.year,data['per capita income (US$)'])\n",
    "axis[0,1].scatter(data.year,data['per capita income (US$)'])\n",
    "axis[1,0].hist(data['per capita income (US$)'])\n",
    "axis[1,1].boxplot(data['per capita income (US$)'])\n",
    "plt.show()"
   ]
  },
  {
   "cell_type": "code",
   "execution_count": 4,
   "id": "7dac7bce",
   "metadata": {},
   "outputs": [],
   "source": [
    "from sklearn.model_selection import train_test_split"
   ]
  },
  {
   "cell_type": "code",
   "execution_count": 5,
   "id": "788a122a",
   "metadata": {},
   "outputs": [],
   "source": [
    "X = data.year\n",
    "Y = data['per capita income (US$)']\n"
   ]
  },
  {
   "cell_type": "code",
   "execution_count": 6,
   "id": "3207250a",
   "metadata": {},
   "outputs": [],
   "source": [
    "x_train,x_test,y_train,y_test = train_test_split(X,Y,train_size=.8)"
   ]
  },
  {
   "cell_type": "code",
   "execution_count": 7,
   "id": "b9f81342",
   "metadata": {},
   "outputs": [],
   "source": [
    "# making data 2D\n",
    "x_train = np.array(x_train).reshape(-1,1)\n",
    "x_test = np.array(x_test).reshape(-1,1)"
   ]
  },
  {
   "cell_type": "code",
   "execution_count": null,
   "id": "539cb0f8",
   "metadata": {},
   "outputs": [],
   "source": []
  },
  {
   "cell_type": "code",
   "execution_count": 8,
   "id": "bfc6c84e",
   "metadata": {},
   "outputs": [],
   "source": [
    "from sklearn.linear_model import LinearRegression\n",
    "model = LinearRegression()"
   ]
  },
  {
   "cell_type": "code",
   "execution_count": 9,
   "id": "6f5db57a",
   "metadata": {},
   "outputs": [
    {
     "data": {
      "text/plain": [
       "LinearRegression()"
      ]
     },
     "execution_count": 9,
     "metadata": {},
     "output_type": "execute_result"
    }
   ],
   "source": [
    "model.fit(x_train,y_train)"
   ]
  },
  {
   "cell_type": "code",
   "execution_count": 10,
   "id": "33705c2b",
   "metadata": {},
   "outputs": [
    {
     "data": {
      "text/plain": [
       "array([30764.54716685, 20693.53944713, 19854.28880382, 31603.79781016,\n",
       "       27407.54459361, 23211.29137706,   551.52400771, 37478.55231332,\n",
       "        4747.77722425, 15658.03558728])"
      ]
     },
     "execution_count": 10,
     "metadata": {},
     "output_type": "execute_result"
    }
   ],
   "source": [
    "pre = model.predict(x_test)\n",
    "pre"
   ]
  },
  {
   "cell_type": "code",
   "execution_count": 11,
   "id": "48c7e3da",
   "metadata": {},
   "outputs": [
    {
     "data": {
      "text/plain": [
       "(37    36144.481220\n",
       " 25    16369.317250\n",
       " 24    15755.820270\n",
       " 38    37446.486090\n",
       " 33    22739.426280\n",
       " 28    16622.671870\n",
       " 1      3768.297935\n",
       " 45    35175.188980\n",
       " 6      7062.131392\n",
       " 19    16426.725480\n",
       " Name: per capita income (US$), dtype: float64,\n",
       " array([[2007],\n",
       "        [1995],\n",
       "        [1994],\n",
       "        [2008],\n",
       "        [2003],\n",
       "        [1998],\n",
       "        [1971],\n",
       "        [2015],\n",
       "        [1976],\n",
       "        [1989]], dtype=int64))"
      ]
     },
     "execution_count": 11,
     "metadata": {},
     "output_type": "execute_result"
    }
   ],
   "source": [
    "y_test,x_test"
   ]
  },
  {
   "cell_type": "code",
   "execution_count": 13,
   "id": "60ef4155",
   "metadata": {},
   "outputs": [
    {
     "data": {
      "text/plain": [
       "array([839.25064331])"
      ]
     },
     "execution_count": 13,
     "metadata": {},
     "output_type": "execute_result"
    }
   ],
   "source": [
    "model.coef_"
   ]
  },
  {
   "cell_type": "code",
   "execution_count": 14,
   "id": "e2d3ba5e",
   "metadata": {},
   "outputs": [
    {
     "data": {
      "text/plain": [
       "-1653611.493955131"
      ]
     },
     "execution_count": 14,
     "metadata": {},
     "output_type": "execute_result"
    }
   ],
   "source": [
    "model.intercept_"
   ]
  },
  {
   "cell_type": "code",
   "execution_count": 15,
   "id": "8ae76d06",
   "metadata": {},
   "outputs": [
    {
     "data": {
      "text/plain": [
       "LinearRegression()"
      ]
     },
     "execution_count": 15,
     "metadata": {},
     "output_type": "execute_result"
    }
   ],
   "source": [
    "model"
   ]
  },
  {
   "cell_type": "code",
   "execution_count": 16,
   "id": "83d0bbd8",
   "metadata": {},
   "outputs": [
    {
     "data": {
      "text/plain": [
       "array([48388.81067634])"
      ]
     },
     "execution_count": 16,
     "metadata": {},
     "output_type": "execute_result"
    }
   ],
   "source": [
    "model.predict([[2028]])"
   ]
  },
  {
   "cell_type": "code",
   "execution_count": 17,
   "id": "337fb2dd",
   "metadata": {},
   "outputs": [
    {
     "data": {
      "text/plain": [
       "[<matplotlib.lines.Line2D at 0x16735517280>]"
      ]
     },
     "execution_count": 17,
     "metadata": {},
     "output_type": "execute_result"
    },
    {
     "data": {
      "image/png": "[encoded data removed]",
      "text/plain": [
       "<Figure size 432x288 with 1 Axes>"
      ]
     },
     "metadata": {
      "needs_background": "light"
     },
     "output_type": "display_data"
    }
   ],
   "source": [
    "plt.scatter(x_test,y_test,color='r',alpha = .5)\n",
    "\n",
    "\n",
    "plt.plot(x_test,model.predict(x_test),'g')"
   ]
  },
  {
   "cell_type": "code",
   "execution_count": 18,
   "id": "1d5c1be5",
   "metadata": {},
   "outputs": [],
   "source": [
    "import pickle as pk"
   ]
  },
  {
   "cell_type": "code",
   "execution_count": 19,
   "id": "21910577",
   "metadata": {},
   "outputs": [],
   "source": [
    "with open('income_pickle','wb') as file:\n",
    "    pk.dump(model,file)"
   ]
  },
  {
   "cell_type": "code",
   "execution_count": 21,
   "id": "e53f914f",
   "metadata": {},
   "outputs": [],
   "source": [
    "with open('income_pickle','rb') as file:\n",
    "    md = pk.load(file)"
   ]
  },
  {
   "cell_type": "code",
   "execution_count": 22,
   "id": "f54fcab0",
   "metadata": {},
   "outputs": [
    {
     "data": {
      "text/plain": [
       "array([839.25064331])"
      ]
     },
     "execution_count": 22,
     "metadata": {},
     "output_type": "execute_result"
    }
   ],
   "source": [
    "md.coef_"
   ]
  },
  {
   "cell_type": "code",
   "execution_count": 28,
   "id": "1eb413d4",
   "metadata": {},
   "outputs": [
    {
     "data": {
      "text/plain": [
       "array([48388.81067634])"
      ]
     },
     "execution_count": 28,
     "metadata": {},
     "output_type": "execute_result"
    }
   ],
   "source": [
    "md.predict([[2028]])"
   ]
  },
  {
   "cell_type": "code",
   "execution_count": 35,
   "id": "094e6ba7",
   "metadata": {},
   "outputs": [],
   "source": [
    "import joblib"
   ]
  },
  {
   "cell_type": "code",
   "execution_count": 36,
   "id": "f876fb5f",
   "metadata": {},
   "outputs": [
    {
     "data": {
      "text/plain": [
       "['model_joblib']"
      ]
     },
     "execution_count": 36,
     "metadata": {},
     "output_type": "execute_result"
    }
   ],
   "source": [
    "joblib.dump(model,'model_joblib')"
   ]
  },
  {
   "cell_type": "code",
   "execution_count": 37,
   "id": "573dcf35",
   "metadata": {},
   "outputs": [],
   "source": [
    "mdl = joblib.load('model_joblib')"
   ]
  },
  {
   "cell_type": "code",
   "execution_count": 38,
   "id": "20897681",
   "metadata": {},
   "outputs": [
    {
     "data": {
      "text/plain": [
       "array([48388.81067634])"
      ]
     },
     "execution_count": 38,
     "metadata": {},
     "output_type": "execute_result"
    }
   ],
   "source": [
    "mdl.predict([[2028]])"
   ]
  },
  {
   "cell_type": "code",
   "execution_count": 48,
   "id": "ac804c83",
   "metadata": {},
   "outputs": [
    {
     "data": {
      "text/plain": [
       "0.8982827825087651"
      ]
     },
     "execution_count": 48,
     "metadata": {},
     "output_type": "execute_result"
    }
   ],
   "source": [
    "mdl.score(x_train,y_train)"
   ]
  },
  {
   "cell_type": "code",
   "execution_count": null,
   "id": "1922fb35",
   "metadata": {},
   "outputs": [],
   "source": []
  }
 ],
 "metadata": {
  "kernelspec": {
   "display_name": "Python 3 (ipykernel)",
   "language": "python",
   "name": "python3"
  },
  "language_info": {
   "codemirror_mode": {
    "name": "ipython",
    "version": 3
   },
   "file_extension": ".py",
   "mimetype": "text/x-python",
   "name": "python",
   "nbconvert_exporter": "python",
   "pygments_lexer": "ipython3",
   "version": "3.9.7"
  }
 },
 "nbformat": 4,
 "nbformat_minor": 5
}
