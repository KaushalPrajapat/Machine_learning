{
 "cells": [
  {
   "cell_type": "code",
   "execution_count": 6,
   "id": "e7997454",
   "metadata": {},
   "outputs": [],
   "source": [
    "import numpy as np\n",
    "import pandas as pd\n",
    "import matplotlib.pyplot as plt\n",
    "%matplotlib inline"
   ]
  },
  {
   "cell_type": "code",
   "execution_count": 8,
   "id": "c0e9c53b",
   "metadata": {},
   "outputs": [],
   "source": [
    "df = pd.read_csv('DataSet/diesel.csv')"
   ]
  },
  {
   "cell_type": "code",
   "execution_count": 9,
   "id": "11033793",
   "metadata": {},
   "outputs": [
    {
     "data": {
      "text/html": [
       "<div>\n",
       "<style scoped>\n",
       "    .dataframe tbody tr th:only-of-type {\n",
       "        vertical-align: middle;\n",
       "    }\n",
       "\n",
       "    .dataframe tbody tr th {\n",
       "        vertical-align: top;\n",
       "    }\n",
       "\n",
       "    .dataframe thead th {\n",
       "        text-align: right;\n",
       "    }\n",
       "</style>\n",
       "<table border=\"1\" class=\"dataframe\">\n",
       "  <thead>\n",
       "    <tr style=\"text-align: right;\">\n",
       "      <th></th>\n",
       "      <th>city</th>\n",
       "      <th>date</th>\n",
       "      <th>rate</th>\n",
       "      <th>state</th>\n",
       "    </tr>\n",
       "  </thead>\n",
       "  <tbody>\n",
       "    <tr>\n",
       "      <th>0</th>\n",
       "      <td>Agartala</td>\n",
       "      <td>2012-10-27</td>\n",
       "      <td>46.93</td>\n",
       "      <td>Tripura</td>\n",
       "    </tr>\n",
       "    <tr>\n",
       "      <th>1</th>\n",
       "      <td>Agartala</td>\n",
       "      <td>2013-01-18</td>\n",
       "      <td>47.45</td>\n",
       "      <td>Tripura</td>\n",
       "    </tr>\n",
       "    <tr>\n",
       "      <th>2</th>\n",
       "      <td>Agartala</td>\n",
       "      <td>2013-02-16</td>\n",
       "      <td>47.96</td>\n",
       "      <td>Tripura</td>\n",
       "    </tr>\n",
       "    <tr>\n",
       "      <th>3</th>\n",
       "      <td>Agartala</td>\n",
       "      <td>2013-03-23</td>\n",
       "      <td>47.46</td>\n",
       "      <td>Tripura</td>\n",
       "    </tr>\n",
       "    <tr>\n",
       "      <th>4</th>\n",
       "      <td>Agartala</td>\n",
       "      <td>2013-04-01</td>\n",
       "      <td>48.47</td>\n",
       "      <td>Tripura</td>\n",
       "    </tr>\n",
       "  </tbody>\n",
       "</table>\n",
       "</div>"
      ],
      "text/plain": [
       "       city        date   rate    state\n",
       "0  Agartala  2012-10-27  46.93  Tripura\n",
       "1  Agartala  2013-01-18  47.45  Tripura\n",
       "2  Agartala  2013-02-16  47.96  Tripura\n",
       "3  Agartala  2013-03-23  47.46  Tripura\n",
       "4  Agartala  2013-04-01  48.47  Tripura"
      ]
     },
     "execution_count": 9,
     "metadata": {},
     "output_type": "execute_result"
    }
   ],
   "source": [
    "df.head(5)"
   ]
  },
  {
   "cell_type": "code",
   "execution_count": 10,
   "id": "7bc02424",
   "metadata": {},
   "outputs": [],
   "source": [
    "tp = df[df['state'] == 'Tripura']"
   ]
  },
  {
   "cell_type": "code",
   "execution_count": 11,
   "id": "ce7ecf48",
   "metadata": {},
   "outputs": [
    {
     "data": {
      "text/html": [
       "<div>\n",
       "<style scoped>\n",
       "    .dataframe tbody tr th:only-of-type {\n",
       "        vertical-align: middle;\n",
       "    }\n",
       "\n",
       "    .dataframe tbody tr th {\n",
       "        vertical-align: top;\n",
       "    }\n",
       "\n",
       "    .dataframe thead th {\n",
       "        text-align: right;\n",
       "    }\n",
       "</style>\n",
       "<table border=\"1\" class=\"dataframe\">\n",
       "  <thead>\n",
       "    <tr style=\"text-align: right;\">\n",
       "      <th></th>\n",
       "      <th>city</th>\n",
       "      <th>date</th>\n",
       "      <th>rate</th>\n",
       "      <th>state</th>\n",
       "    </tr>\n",
       "  </thead>\n",
       "  <tbody>\n",
       "    <tr>\n",
       "      <th>0</th>\n",
       "      <td>Agartala</td>\n",
       "      <td>2012-10-27</td>\n",
       "      <td>46.93</td>\n",
       "      <td>Tripura</td>\n",
       "    </tr>\n",
       "    <tr>\n",
       "      <th>1</th>\n",
       "      <td>Agartala</td>\n",
       "      <td>2013-01-18</td>\n",
       "      <td>47.45</td>\n",
       "      <td>Tripura</td>\n",
       "    </tr>\n",
       "    <tr>\n",
       "      <th>2</th>\n",
       "      <td>Agartala</td>\n",
       "      <td>2013-02-16</td>\n",
       "      <td>47.96</td>\n",
       "      <td>Tripura</td>\n",
       "    </tr>\n",
       "    <tr>\n",
       "      <th>3</th>\n",
       "      <td>Agartala</td>\n",
       "      <td>2013-03-23</td>\n",
       "      <td>47.46</td>\n",
       "      <td>Tripura</td>\n",
       "    </tr>\n",
       "    <tr>\n",
       "      <th>4</th>\n",
       "      <td>Agartala</td>\n",
       "      <td>2013-04-01</td>\n",
       "      <td>48.47</td>\n",
       "      <td>Tripura</td>\n",
       "    </tr>\n",
       "    <tr>\n",
       "      <th>...</th>\n",
       "      <td>...</td>\n",
       "      <td>...</td>\n",
       "      <td>...</td>\n",
       "      <td>...</td>\n",
       "    </tr>\n",
       "    <tr>\n",
       "      <th>811</th>\n",
       "      <td>Agartala</td>\n",
       "      <td>2020-12-27</td>\n",
       "      <td>77.26</td>\n",
       "      <td>Tripura</td>\n",
       "    </tr>\n",
       "    <tr>\n",
       "      <th>812</th>\n",
       "      <td>Agartala</td>\n",
       "      <td>2020-12-28</td>\n",
       "      <td>77.26</td>\n",
       "      <td>Tripura</td>\n",
       "    </tr>\n",
       "    <tr>\n",
       "      <th>813</th>\n",
       "      <td>Agartala</td>\n",
       "      <td>2020-12-29</td>\n",
       "      <td>77.26</td>\n",
       "      <td>Tripura</td>\n",
       "    </tr>\n",
       "    <tr>\n",
       "      <th>814</th>\n",
       "      <td>Agartala</td>\n",
       "      <td>2020-12-30</td>\n",
       "      <td>77.26</td>\n",
       "      <td>Tripura</td>\n",
       "    </tr>\n",
       "    <tr>\n",
       "      <th>815</th>\n",
       "      <td>Agartala</td>\n",
       "      <td>2020-12-31</td>\n",
       "      <td>77.26</td>\n",
       "      <td>Tripura</td>\n",
       "    </tr>\n",
       "  </tbody>\n",
       "</table>\n",
       "<p>816 rows × 4 columns</p>\n",
       "</div>"
      ],
      "text/plain": [
       "         city        date   rate    state\n",
       "0    Agartala  2012-10-27  46.93  Tripura\n",
       "1    Agartala  2013-01-18  47.45  Tripura\n",
       "2    Agartala  2013-02-16  47.96  Tripura\n",
       "3    Agartala  2013-03-23  47.46  Tripura\n",
       "4    Agartala  2013-04-01  48.47  Tripura\n",
       "..        ...         ...    ...      ...\n",
       "811  Agartala  2020-12-27  77.26  Tripura\n",
       "812  Agartala  2020-12-28  77.26  Tripura\n",
       "813  Agartala  2020-12-29  77.26  Tripura\n",
       "814  Agartala  2020-12-30  77.26  Tripura\n",
       "815  Agartala  2020-12-31  77.26  Tripura\n",
       "\n",
       "[816 rows x 4 columns]"
      ]
     },
     "execution_count": 11,
     "metadata": {},
     "output_type": "execute_result"
    }
   ],
   "source": [
    "tp"
   ]
  },
  {
   "cell_type": "code",
   "execution_count": 12,
   "id": "ef5c56c7",
   "metadata": {},
   "outputs": [],
   "source": [
    "dl = df[df['state'] == 'Delhi']"
   ]
  },
  {
   "cell_type": "code",
   "execution_count": 13,
   "id": "7f409053",
   "metadata": {},
   "outputs": [
    {
     "data": {
      "text/html": [
       "<div>\n",
       "<style scoped>\n",
       "    .dataframe tbody tr th:only-of-type {\n",
       "        vertical-align: middle;\n",
       "    }\n",
       "\n",
       "    .dataframe tbody tr th {\n",
       "        vertical-align: top;\n",
       "    }\n",
       "\n",
       "    .dataframe thead th {\n",
       "        text-align: right;\n",
       "    }\n",
       "</style>\n",
       "<table border=\"1\" class=\"dataframe\">\n",
       "  <thead>\n",
       "    <tr style=\"text-align: right;\">\n",
       "      <th></th>\n",
       "      <th>city</th>\n",
       "      <th>date</th>\n",
       "      <th>rate</th>\n",
       "      <th>state</th>\n",
       "    </tr>\n",
       "  </thead>\n",
       "  <tbody>\n",
       "    <tr>\n",
       "      <th>5858</th>\n",
       "      <td>Delhi</td>\n",
       "      <td>2002-06-16</td>\n",
       "      <td>18.23</td>\n",
       "      <td>Delhi</td>\n",
       "    </tr>\n",
       "    <tr>\n",
       "      <th>5859</th>\n",
       "      <td>Delhi</td>\n",
       "      <td>2002-07-01</td>\n",
       "      <td>18.23</td>\n",
       "      <td>Delhi</td>\n",
       "    </tr>\n",
       "    <tr>\n",
       "      <th>5860</th>\n",
       "      <td>Delhi</td>\n",
       "      <td>2002-08-01</td>\n",
       "      <td>18.23</td>\n",
       "      <td>Delhi</td>\n",
       "    </tr>\n",
       "    <tr>\n",
       "      <th>5861</th>\n",
       "      <td>Delhi</td>\n",
       "      <td>2002-08-16</td>\n",
       "      <td>18.05</td>\n",
       "      <td>Delhi</td>\n",
       "    </tr>\n",
       "    <tr>\n",
       "      <th>5862</th>\n",
       "      <td>Delhi</td>\n",
       "      <td>2002-09-01</td>\n",
       "      <td>18.34</td>\n",
       "      <td>Delhi</td>\n",
       "    </tr>\n",
       "    <tr>\n",
       "      <th>...</th>\n",
       "      <td>...</td>\n",
       "      <td>...</td>\n",
       "      <td>...</td>\n",
       "      <td>...</td>\n",
       "    </tr>\n",
       "    <tr>\n",
       "      <th>7042</th>\n",
       "      <td>Delhi</td>\n",
       "      <td>2020-12-27</td>\n",
       "      <td>73.88</td>\n",
       "      <td>Delhi</td>\n",
       "    </tr>\n",
       "    <tr>\n",
       "      <th>7043</th>\n",
       "      <td>Delhi</td>\n",
       "      <td>2020-12-28</td>\n",
       "      <td>73.88</td>\n",
       "      <td>Delhi</td>\n",
       "    </tr>\n",
       "    <tr>\n",
       "      <th>7044</th>\n",
       "      <td>Delhi</td>\n",
       "      <td>2020-12-29</td>\n",
       "      <td>73.88</td>\n",
       "      <td>Delhi</td>\n",
       "    </tr>\n",
       "    <tr>\n",
       "      <th>7045</th>\n",
       "      <td>Delhi</td>\n",
       "      <td>2020-12-30</td>\n",
       "      <td>73.88</td>\n",
       "      <td>Delhi</td>\n",
       "    </tr>\n",
       "    <tr>\n",
       "      <th>7046</th>\n",
       "      <td>Delhi</td>\n",
       "      <td>2020-12-31</td>\n",
       "      <td>73.88</td>\n",
       "      <td>Delhi</td>\n",
       "    </tr>\n",
       "  </tbody>\n",
       "</table>\n",
       "<p>1189 rows × 4 columns</p>\n",
       "</div>"
      ],
      "text/plain": [
       "       city        date   rate  state\n",
       "5858  Delhi  2002-06-16  18.23  Delhi\n",
       "5859  Delhi  2002-07-01  18.23  Delhi\n",
       "5860  Delhi  2002-08-01  18.23  Delhi\n",
       "5861  Delhi  2002-08-16  18.05  Delhi\n",
       "5862  Delhi  2002-09-01  18.34  Delhi\n",
       "...     ...         ...    ...    ...\n",
       "7042  Delhi  2020-12-27  73.88  Delhi\n",
       "7043  Delhi  2020-12-28  73.88  Delhi\n",
       "7044  Delhi  2020-12-29  73.88  Delhi\n",
       "7045  Delhi  2020-12-30  73.88  Delhi\n",
       "7046  Delhi  2020-12-31  73.88  Delhi\n",
       "\n",
       "[1189 rows x 4 columns]"
      ]
     },
     "execution_count": 13,
     "metadata": {},
     "output_type": "execute_result"
    }
   ],
   "source": [
    "dl"
   ]
  },
  {
   "cell_type": "code",
   "execution_count": 14,
   "id": "aa212cc8",
   "metadata": {},
   "outputs": [
    {
     "data": {
      "image/png": "[encoded data removed]",
      "text/plain": [
       "<Figure size 432x288 with 1 Axes>"
      ]
     },
     "metadata": {
      "needs_background": "light"
     },
     "output_type": "display_data"
    }
   ],
   "source": [
    "plt.plot(tp.date,tp.rate,c='green')\n",
    "plt.plot(dl.date,dl.rate,c='red',alpha=.3)\n",
    "\n",
    "plt.xlabel('Dates')\n",
    "plt.ylabel('Prices(in Rupe)')\n",
    "plt.xticks([2002,2010,2018,2022])\n",
    "plt.legend(['Tripura','Delhi'])\n",
    "# plt.xticks([10,50,90])\n",
    "plt.title(\"Price-Time\")\n",
    "plt.show()"
   ]
  },
  {
   "cell_type": "code",
   "execution_count": 15,
   "id": "249a3b9d",
   "metadata": {},
   "outputs": [],
   "source": [
    "gas = pd.read_csv(r'C:\\Users\\kaushal prajapat\\Downloads\\CSV_Files\\gas_prices.txt')"
   ]
  },
  {
   "cell_type": "code",
   "execution_count": 16,
   "id": "ad316cda",
   "metadata": {},
   "outputs": [
    {
     "data": {
      "text/html": [
       "<div>\n",
       "<style scoped>\n",
       "    .dataframe tbody tr th:only-of-type {\n",
       "        vertical-align: middle;\n",
       "    }\n",
       "\n",
       "    .dataframe tbody tr th {\n",
       "        vertical-align: top;\n",
       "    }\n",
       "\n",
       "    .dataframe thead th {\n",
       "        text-align: right;\n",
       "    }\n",
       "</style>\n",
       "<table border=\"1\" class=\"dataframe\">\n",
       "  <thead>\n",
       "    <tr style=\"text-align: right;\">\n",
       "      <th></th>\n",
       "      <th>Year</th>\n",
       "      <th>Australia</th>\n",
       "      <th>Canada</th>\n",
       "      <th>France</th>\n",
       "      <th>Germany</th>\n",
       "      <th>Italy</th>\n",
       "      <th>Japan</th>\n",
       "      <th>Mexico</th>\n",
       "      <th>South Korea</th>\n",
       "      <th>UK</th>\n",
       "      <th>USA</th>\n",
       "    </tr>\n",
       "  </thead>\n",
       "  <tbody>\n",
       "    <tr>\n",
       "      <th>0</th>\n",
       "      <td>1990</td>\n",
       "      <td>NaN</td>\n",
       "      <td>1.87</td>\n",
       "      <td>3.63</td>\n",
       "      <td>2.65</td>\n",
       "      <td>4.59</td>\n",
       "      <td>3.16</td>\n",
       "      <td>1.00</td>\n",
       "      <td>2.05</td>\n",
       "      <td>2.82</td>\n",
       "      <td>1.16</td>\n",
       "    </tr>\n",
       "    <tr>\n",
       "      <th>1</th>\n",
       "      <td>1991</td>\n",
       "      <td>1.96</td>\n",
       "      <td>1.92</td>\n",
       "      <td>3.45</td>\n",
       "      <td>2.90</td>\n",
       "      <td>4.50</td>\n",
       "      <td>3.46</td>\n",
       "      <td>1.30</td>\n",
       "      <td>2.49</td>\n",
       "      <td>3.01</td>\n",
       "      <td>1.14</td>\n",
       "    </tr>\n",
       "    <tr>\n",
       "      <th>2</th>\n",
       "      <td>1992</td>\n",
       "      <td>1.89</td>\n",
       "      <td>1.73</td>\n",
       "      <td>3.56</td>\n",
       "      <td>3.27</td>\n",
       "      <td>4.53</td>\n",
       "      <td>3.58</td>\n",
       "      <td>1.50</td>\n",
       "      <td>2.65</td>\n",
       "      <td>3.06</td>\n",
       "      <td>1.13</td>\n",
       "    </tr>\n",
       "    <tr>\n",
       "      <th>3</th>\n",
       "      <td>1993</td>\n",
       "      <td>1.73</td>\n",
       "      <td>1.57</td>\n",
       "      <td>3.41</td>\n",
       "      <td>3.07</td>\n",
       "      <td>3.68</td>\n",
       "      <td>4.16</td>\n",
       "      <td>1.56</td>\n",
       "      <td>2.88</td>\n",
       "      <td>2.84</td>\n",
       "      <td>1.11</td>\n",
       "    </tr>\n",
       "    <tr>\n",
       "      <th>4</th>\n",
       "      <td>1994</td>\n",
       "      <td>1.84</td>\n",
       "      <td>1.45</td>\n",
       "      <td>3.59</td>\n",
       "      <td>3.52</td>\n",
       "      <td>3.70</td>\n",
       "      <td>4.36</td>\n",
       "      <td>1.48</td>\n",
       "      <td>2.87</td>\n",
       "      <td>2.99</td>\n",
       "      <td>1.11</td>\n",
       "    </tr>\n",
       "    <tr>\n",
       "      <th>5</th>\n",
       "      <td>1995</td>\n",
       "      <td>1.95</td>\n",
       "      <td>1.53</td>\n",
       "      <td>4.26</td>\n",
       "      <td>3.96</td>\n",
       "      <td>4.00</td>\n",
       "      <td>4.43</td>\n",
       "      <td>1.11</td>\n",
       "      <td>2.94</td>\n",
       "      <td>3.21</td>\n",
       "      <td>1.15</td>\n",
       "    </tr>\n",
       "    <tr>\n",
       "      <th>6</th>\n",
       "      <td>1996</td>\n",
       "      <td>2.12</td>\n",
       "      <td>1.61</td>\n",
       "      <td>4.41</td>\n",
       "      <td>3.94</td>\n",
       "      <td>4.39</td>\n",
       "      <td>3.64</td>\n",
       "      <td>1.25</td>\n",
       "      <td>3.18</td>\n",
       "      <td>3.34</td>\n",
       "      <td>1.23</td>\n",
       "    </tr>\n",
       "    <tr>\n",
       "      <th>7</th>\n",
       "      <td>1997</td>\n",
       "      <td>2.05</td>\n",
       "      <td>1.62</td>\n",
       "      <td>4.00</td>\n",
       "      <td>3.53</td>\n",
       "      <td>4.07</td>\n",
       "      <td>3.26</td>\n",
       "      <td>1.47</td>\n",
       "      <td>3.34</td>\n",
       "      <td>3.83</td>\n",
       "      <td>1.23</td>\n",
       "    </tr>\n",
       "    <tr>\n",
       "      <th>8</th>\n",
       "      <td>1998</td>\n",
       "      <td>1.63</td>\n",
       "      <td>1.38</td>\n",
       "      <td>3.87</td>\n",
       "      <td>3.34</td>\n",
       "      <td>3.84</td>\n",
       "      <td>2.82</td>\n",
       "      <td>1.49</td>\n",
       "      <td>3.04</td>\n",
       "      <td>4.06</td>\n",
       "      <td>1.06</td>\n",
       "    </tr>\n",
       "    <tr>\n",
       "      <th>9</th>\n",
       "      <td>1999</td>\n",
       "      <td>1.72</td>\n",
       "      <td>1.52</td>\n",
       "      <td>3.85</td>\n",
       "      <td>3.42</td>\n",
       "      <td>3.87</td>\n",
       "      <td>3.27</td>\n",
       "      <td>1.79</td>\n",
       "      <td>3.80</td>\n",
       "      <td>4.29</td>\n",
       "      <td>1.17</td>\n",
       "    </tr>\n",
       "    <tr>\n",
       "      <th>10</th>\n",
       "      <td>2000</td>\n",
       "      <td>1.94</td>\n",
       "      <td>1.86</td>\n",
       "      <td>3.80</td>\n",
       "      <td>3.45</td>\n",
       "      <td>3.77</td>\n",
       "      <td>3.65</td>\n",
       "      <td>2.01</td>\n",
       "      <td>4.18</td>\n",
       "      <td>4.58</td>\n",
       "      <td>1.51</td>\n",
       "    </tr>\n",
       "    <tr>\n",
       "      <th>11</th>\n",
       "      <td>2001</td>\n",
       "      <td>1.71</td>\n",
       "      <td>1.72</td>\n",
       "      <td>3.51</td>\n",
       "      <td>3.40</td>\n",
       "      <td>3.57</td>\n",
       "      <td>3.27</td>\n",
       "      <td>2.20</td>\n",
       "      <td>3.76</td>\n",
       "      <td>4.13</td>\n",
       "      <td>1.46</td>\n",
       "    </tr>\n",
       "    <tr>\n",
       "      <th>12</th>\n",
       "      <td>2002</td>\n",
       "      <td>1.76</td>\n",
       "      <td>1.69</td>\n",
       "      <td>3.62</td>\n",
       "      <td>3.67</td>\n",
       "      <td>3.74</td>\n",
       "      <td>3.15</td>\n",
       "      <td>2.24</td>\n",
       "      <td>3.84</td>\n",
       "      <td>4.16</td>\n",
       "      <td>1.36</td>\n",
       "    </tr>\n",
       "    <tr>\n",
       "      <th>13</th>\n",
       "      <td>2003</td>\n",
       "      <td>2.19</td>\n",
       "      <td>1.99</td>\n",
       "      <td>4.35</td>\n",
       "      <td>4.59</td>\n",
       "      <td>4.53</td>\n",
       "      <td>3.47</td>\n",
       "      <td>2.04</td>\n",
       "      <td>4.11</td>\n",
       "      <td>4.70</td>\n",
       "      <td>1.59</td>\n",
       "    </tr>\n",
       "    <tr>\n",
       "      <th>14</th>\n",
       "      <td>2004</td>\n",
       "      <td>2.72</td>\n",
       "      <td>2.37</td>\n",
       "      <td>4.99</td>\n",
       "      <td>5.24</td>\n",
       "      <td>5.29</td>\n",
       "      <td>3.93</td>\n",
       "      <td>2.03</td>\n",
       "      <td>4.51</td>\n",
       "      <td>5.56</td>\n",
       "      <td>1.88</td>\n",
       "    </tr>\n",
       "    <tr>\n",
       "      <th>15</th>\n",
       "      <td>2005</td>\n",
       "      <td>3.23</td>\n",
       "      <td>2.89</td>\n",
       "      <td>5.46</td>\n",
       "      <td>5.66</td>\n",
       "      <td>5.74</td>\n",
       "      <td>4.28</td>\n",
       "      <td>2.22</td>\n",
       "      <td>5.28</td>\n",
       "      <td>5.97</td>\n",
       "      <td>2.30</td>\n",
       "    </tr>\n",
       "    <tr>\n",
       "      <th>16</th>\n",
       "      <td>2006</td>\n",
       "      <td>3.54</td>\n",
       "      <td>3.26</td>\n",
       "      <td>5.88</td>\n",
       "      <td>6.03</td>\n",
       "      <td>6.10</td>\n",
       "      <td>4.47</td>\n",
       "      <td>2.31</td>\n",
       "      <td>5.92</td>\n",
       "      <td>6.36</td>\n",
       "      <td>2.59</td>\n",
       "    </tr>\n",
       "    <tr>\n",
       "      <th>17</th>\n",
       "      <td>2007</td>\n",
       "      <td>3.85</td>\n",
       "      <td>3.59</td>\n",
       "      <td>6.60</td>\n",
       "      <td>6.88</td>\n",
       "      <td>6.73</td>\n",
       "      <td>4.49</td>\n",
       "      <td>2.40</td>\n",
       "      <td>6.21</td>\n",
       "      <td>7.13</td>\n",
       "      <td>2.80</td>\n",
       "    </tr>\n",
       "    <tr>\n",
       "      <th>18</th>\n",
       "      <td>2008</td>\n",
       "      <td>4.45</td>\n",
       "      <td>4.08</td>\n",
       "      <td>7.51</td>\n",
       "      <td>7.75</td>\n",
       "      <td>7.63</td>\n",
       "      <td>5.74</td>\n",
       "      <td>2.45</td>\n",
       "      <td>5.83</td>\n",
       "      <td>7.42</td>\n",
       "      <td>3.27</td>\n",
       "    </tr>\n",
       "  </tbody>\n",
       "</table>\n",
       "</div>"
      ],
      "text/plain": [
       "    Year  Australia  Canada  France  Germany  Italy  Japan  Mexico  \\\n",
       "0   1990        NaN    1.87    3.63     2.65   4.59   3.16    1.00   \n",
       "1   1991       1.96    1.92    3.45     2.90   4.50   3.46    1.30   \n",
       "2   1992       1.89    1.73    3.56     3.27   4.53   3.58    1.50   \n",
       "3   1993       1.73    1.57    3.41     3.07   3.68   4.16    1.56   \n",
       "4   1994       1.84    1.45    3.59     3.52   3.70   4.36    1.48   \n",
       "5   1995       1.95    1.53    4.26     3.96   4.00   4.43    1.11   \n",
       "6   1996       2.12    1.61    4.41     3.94   4.39   3.64    1.25   \n",
       "7   1997       2.05    1.62    4.00     3.53   4.07   3.26    1.47   \n",
       "8   1998       1.63    1.38    3.87     3.34   3.84   2.82    1.49   \n",
       "9   1999       1.72    1.52    3.85     3.42   3.87   3.27    1.79   \n",
       "10  2000       1.94    1.86    3.80     3.45   3.77   3.65    2.01   \n",
       "11  2001       1.71    1.72    3.51     3.40   3.57   3.27    2.20   \n",
       "12  2002       1.76    1.69    3.62     3.67   3.74   3.15    2.24   \n",
       "13  2003       2.19    1.99    4.35     4.59   4.53   3.47    2.04   \n",
       "14  2004       2.72    2.37    4.99     5.24   5.29   3.93    2.03   \n",
       "15  2005       3.23    2.89    5.46     5.66   5.74   4.28    2.22   \n",
       "16  2006       3.54    3.26    5.88     6.03   6.10   4.47    2.31   \n",
       "17  2007       3.85    3.59    6.60     6.88   6.73   4.49    2.40   \n",
       "18  2008       4.45    4.08    7.51     7.75   7.63   5.74    2.45   \n",
       "\n",
       "    South Korea    UK   USA  \n",
       "0          2.05  2.82  1.16  \n",
       "1          2.49  3.01  1.14  \n",
       "2          2.65  3.06  1.13  \n",
       "3          2.88  2.84  1.11  \n",
       "4          2.87  2.99  1.11  \n",
       "5          2.94  3.21  1.15  \n",
       "6          3.18  3.34  1.23  \n",
       "7          3.34  3.83  1.23  \n",
       "8          3.04  4.06  1.06  \n",
       "9          3.80  4.29  1.17  \n",
       "10         4.18  4.58  1.51  \n",
       "11         3.76  4.13  1.46  \n",
       "12         3.84  4.16  1.36  \n",
       "13         4.11  4.70  1.59  \n",
       "14         4.51  5.56  1.88  \n",
       "15         5.28  5.97  2.30  \n",
       "16         5.92  6.36  2.59  \n",
       "17         6.21  7.13  2.80  \n",
       "18         5.83  7.42  3.27  "
      ]
     },
     "execution_count": 16,
     "metadata": {},
     "output_type": "execute_result"
    }
   ],
   "source": [
    "gas"
   ]
  },
  {
   "cell_type": "code",
   "execution_count": 17,
   "id": "192f09c5",
   "metadata": {},
   "outputs": [],
   "source": [
    "meanValue = gas['Australia'].mean()\n",
    "gas.fillna(value=meanValue,inplace=True)"
   ]
  },
  {
   "cell_type": "code",
   "execution_count": 18,
   "id": "855a98c8",
   "metadata": {},
   "outputs": [
    {
     "data": {
      "text/plain": [
       "Year           0\n",
       "Australia      0\n",
       "Canada         0\n",
       "France         0\n",
       "Germany        0\n",
       "Italy          0\n",
       "Japan          0\n",
       "Mexico         0\n",
       "South Korea    0\n",
       "UK             0\n",
       "USA            0\n",
       "dtype: int64"
      ]
     },
     "execution_count": 18,
     "metadata": {},
     "output_type": "execute_result"
    }
   ],
   "source": [
    "gas.isna().sum()"
   ]
  },
  {
   "cell_type": "code",
   "execution_count": 19,
   "id": "bad5c31b",
   "metadata": {},
   "outputs": [
    {
     "data": {
      "text/plain": [
       "Index(['Year', 'Australia', 'Canada', 'France', 'Germany', 'Italy', 'Japan',\n",
       "       'Mexico', 'South Korea', 'UK', 'USA'],\n",
       "      dtype='object')"
      ]
     },
     "execution_count": 19,
     "metadata": {},
     "output_type": "execute_result"
    }
   ],
   "source": [
    "gas.columns"
   ]
  },
  {
   "cell_type": "code",
   "execution_count": 20,
   "id": "5b256af3",
   "metadata": {},
   "outputs": [
    {
     "data": {
      "text/plain": [
       "<matplotlib.legend.Legend at 0x179af70fa60>"
      ]
     },
     "execution_count": 20,
     "metadata": {},
     "output_type": "execute_result"
    },
    {
     "data": {
      "image/png": "[encoded data removed]",
      "text/plain": [
       "<Figure size 432x288 with 1 Axes>"
      ]
     },
     "metadata": {
      "needs_background": "light"
     },
     "output_type": "display_data"
    }
   ],
   "source": [
    "plt.plot(gas.Year,gas.UK,'--s',c='skyblue')\n",
    "plt.plot(gas.Year,gas.USA,'r--^')\n",
    "plt.plot(gas.Year,gas.France,'b.:')\n",
    "plt.plot(gas.Year,gas.Japan,'g.-')\n",
    "plt.xlabel('Price in Million')\n",
    "plt.ylabel('Years')\n",
    "plt.title('Gas Prices Graph')\n",
    "plt.xticks([1990,1995,2000,2005,2010])\n",
    "plt.legend(['Uk','USA','France','Japan'])"
   ]
  },
  {
   "cell_type": "code",
   "execution_count": 21,
   "id": "2414143b",
   "metadata": {},
   "outputs": [
    {
     "data": {
      "text/plain": [
       "<BarContainer object of 19 artists>"
      ]
     },
     "execution_count": 21,
     "metadata": {},
     "output_type": "execute_result"
    },
    {
     "data": {
      "image/png": "[encoded data removed]",
      "text/plain": [
       "<Figure size 432x288 with 1 Axes>"
      ]
     },
     "metadata": {
      "needs_background": "light"
     },
     "output_type": "display_data"
    }
   ],
   "source": [
    "plt.bar(gas.Year,gas.UK)"
   ]
  },
  {
   "cell_type": "code",
   "execution_count": 22,
   "id": "9de5c40a",
   "metadata": {},
   "outputs": [
    {
     "data": {
      "text/plain": [
       "([<matplotlib.axis.YTick at 0x179b07f1790>,\n",
       "  <matplotlib.axis.YTick at 0x179b07f10d0>,\n",
       "  <matplotlib.axis.YTick at 0x179b07ed490>,\n",
       "  <matplotlib.axis.YTick at 0x179b08235b0>],\n",
       " [Text(0, 0, ''), Text(0, 0, ''), Text(0, 0, ''), Text(0, 0, '')])"
      ]
     },
     "execution_count": 22,
     "metadata": {},
     "output_type": "execute_result"
    },
    {
     "data": {
      "image/png": "[encoded data removed]",
      "text/plain": [
       "<Figure size 432x288 with 1 Axes>"
      ]
     },
     "metadata": {
      "needs_background": "light"
     },
     "output_type": "display_data"
    }
   ],
   "source": [
    "plt.scatter(gas.Year,gas.UK)\n",
    "plt.yticks([2,4,6,8])"
   ]
  },
  {
   "cell_type": "code",
   "execution_count": 23,
   "id": "cea723bf",
   "metadata": {},
   "outputs": [],
   "source": [
    "newgas = gas.sum(axis=0)"
   ]
  },
  {
   "cell_type": "code",
   "execution_count": 24,
   "id": "62b64092",
   "metadata": {},
   "outputs": [
    {
     "data": {
      "text/plain": [
       "Year           37981.000000\n",
       "Australia         44.628889\n",
       "Canada            39.650000\n",
       "France            83.750000\n",
       "Germany           80.270000\n",
       "Italy             88.270000\n",
       "Japan             72.590000\n",
       "Mexico            33.850000\n",
       "South Korea       72.880000\n",
       "UK                83.460000\n",
       "USA               30.250000\n",
       "dtype: float64"
      ]
     },
     "execution_count": 24,
     "metadata": {},
     "output_type": "execute_result"
    }
   ],
   "source": [
    "newgas"
   ]
  },
  {
   "cell_type": "code",
   "execution_count": 25,
   "id": "e75781e5",
   "metadata": {},
   "outputs": [
    {
     "name": "stdout",
     "output_type": "stream",
     "text": [
      "['#429866', '#119517', '#070302', '#002340', '#245417']\n"
     ]
    }
   ],
   "source": [
    "import random\n",
    "import math\n",
    "def colorGenerate(n):\n",
    "    if n==1:\n",
    "        return '#'+str(random.randint(100000,999999))\n",
    "    lst = []\n",
    "    for x in range(n):\n",
    "        digits = [i for i in range(0, 10)]\n",
    "        random_str = \"\"\n",
    "        for i in range(6):\n",
    "            index = math.floor(random.random() * 10)\n",
    "            random_str += str(digits[index])\n",
    "\n",
    "        lst.append('#'+random_str)\n",
    "    return lst\n",
    "print(colorGenerate(5))"
   ]
  },
  {
   "cell_type": "code",
   "execution_count": 26,
   "id": "c305c154",
   "metadata": {},
   "outputs": [
    {
     "data": {
      "text/plain": [
       "['Australia',\n",
       " 'Canada',\n",
       " 'France',\n",
       " 'Germany',\n",
       " 'Italy',\n",
       " 'Japan',\n",
       " 'Mexico',\n",
       " 'South Korea',\n",
       " 'UK',\n",
       " 'USA']"
      ]
     },
     "execution_count": 26,
     "metadata": {},
     "output_type": "execute_result"
    }
   ],
   "source": [
    "columns = gas.columns\n",
    "label = (list(columns[1:]))\n",
    "label"
   ]
  },
  {
   "cell_type": "code",
   "execution_count": 31,
   "id": "351b7d66",
   "metadata": {},
   "outputs": [
    {
     "data": {
      "image/png": "[encoded data removed]",
      "text/plain": [
       "<Figure size 720x576 with 1 Axes>"
      ]
     },
     "metadata": {},
     "output_type": "display_data"
    }
   ],
   "source": [
    "plt.figure(figsize=(10,8))\n",
    "ex = [.01,.02,0,0,.1,0,0,.1,0,.20]\n",
    "clr = colorGenerate(10)\n",
    "plt.pie(newgas[1:],labels=label,autopct='%.1f%%',startangle=45,explode=ex,colors=clr)\n",
    "\n",
    "plt.savefig(\"pie-Chart1.jpg\",dpi=2000)\n",
    "\n",
    "plt.show()"
   ]
  },
  {
   "cell_type": "code",
   "execution_count": null,
   "id": "90b65e71",
   "metadata": {},
   "outputs": [],
   "source": []
  },
  {
   "cell_type": "code",
   "execution_count": null,
   "id": "a3989bc8",
   "metadata": {},
   "outputs": [],
   "source": []
  },
  {
   "cell_type": "code",
   "execution_count": 28,
   "id": "09afd397",
   "metadata": {},
   "outputs": [
    {
     "data": {
      "image/png": "[encoded data removed]",
      "text/plain": [
       "<Figure size 432x288 with 1 Axes>"
      ]
     },
     "metadata": {
      "needs_background": "light"
     },
     "output_type": "display_data"
    }
   ],
   "source": [
    "plt.hist(gas.USA)\n",
    "plt.show()"
   ]
  },
  {
   "cell_type": "code",
   "execution_count": 29,
   "id": "a39f5954",
   "metadata": {},
   "outputs": [
    {
     "data": {
      "text/plain": [
       "[<matplotlib.lines.Line2D at 0x179b08ec910>]"
      ]
     },
     "execution_count": 29,
     "metadata": {},
     "output_type": "execute_result"
    },
    {
     "data": {
      "image/png": "[encoded data removed]",
      "text/plain": [
       "<Figure size 432x288 with 1 Axes>"
      ]
     },
     "metadata": {
      "needs_background": "light"
     },
     "output_type": "display_data"
    }
   ],
   "source": [
    "plt.plot(gas.Year,gas.USA,'g.-')"
   ]
  },
  {
   "cell_type": "code",
   "execution_count": null,
   "id": "f76b4b34",
   "metadata": {},
   "outputs": [],
   "source": []
  },
  {
   "cell_type": "code",
   "execution_count": null,
   "id": "cf34e2a0",
   "metadata": {},
   "outputs": [],
   "source": []
  },
  {
   "cell_type": "code",
   "execution_count": null,
   "id": "4e6294b4",
   "metadata": {},
   "outputs": [],
   "source": [
    "pt = pd.read_csv(r'C:\\Users\\kaushal prajapat\\Downloads\\CSV_Files\\petrol.csv')\n",
    "pt"
   ]
  },
  {
   "cell_type": "code",
   "execution_count": null,
   "id": "74abaa6d",
   "metadata": {},
   "outputs": [],
   "source": [
    "mh = df[df['state'] == 'Maharashtra']"
   ]
  },
  {
   "cell_type": "code",
   "execution_count": null,
   "id": "3e3dd116",
   "metadata": {},
   "outputs": [],
   "source": [
    "mh"
   ]
  },
  {
   "cell_type": "code",
   "execution_count": null,
   "id": "7545b013",
   "metadata": {},
   "outputs": [],
   "source": [
    "dl = df[df['state'] == 'Delhi']\n",
    "dl"
   ]
  },
  {
   "cell_type": "code",
   "execution_count": null,
   "id": "b47e0819",
   "metadata": {},
   "outputs": [],
   "source": [
    "plt.plot(dl.date,dl.rate,c=colorGenerate(1))\n",
    "plt.plot(mh.date,mh.rate,'r.-',alpha=.6)"
   ]
  },
  {
   "cell_type": "code",
   "execution_count": null,
   "id": "61ad9f13",
   "metadata": {},
   "outputs": [],
   "source": []
  }
 ],
 "metadata": {
  "kernelspec": {
   "display_name": "Python 3 (ipykernel)",
   "language": "python",
   "name": "python3"
  },
  "language_info": {
   "codemirror_mode": {
    "name": "ipython",
    "version": 3
   },
   "file_extension": ".py",
   "mimetype": "text/x-python",
   "name": "python",
   "nbconvert_exporter": "python",
   "pygments_lexer": "ipython3",
   "version": "3.9.7"
  }
 },
 "nbformat": 4,
 "nbformat_minor": 5
}
